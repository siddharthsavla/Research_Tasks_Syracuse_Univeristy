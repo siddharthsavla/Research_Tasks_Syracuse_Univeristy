{
 "cells": [
  {
   "cell_type": "markdown",
   "id": "bb0d4a91",
   "metadata": {},
   "source": [
    "# Task 05 - Descriptive Statistics & LLM Validation\n",
    "**Dataset:** Syracuse Men's Soccer 2024\n",
    "\n",
    "This notebook shows:\n",
    "1. Loading the dataset\n",
    "2. Python analysis for each question\n",
    "3. LLM answers for the same questions\n",
    "4. Comparison and validation"
   ]
  },
  {
   "cell_type": "code",
   "execution_count": 2,
   "id": "5c126366",
   "metadata": {},
   "outputs": [
    {
     "name": "stdout",
     "output_type": "stream",
     "text": [
      "Players DataFrame:\n"
     ]
    },
    {
     "data": {
      "text/html": [
       "<div>\n",
       "<style scoped>\n",
       "    .dataframe tbody tr th:only-of-type {\n",
       "        vertical-align: middle;\n",
       "    }\n",
       "\n",
       "    .dataframe tbody tr th {\n",
       "        vertical-align: top;\n",
       "    }\n",
       "\n",
       "    .dataframe thead th {\n",
       "        text-align: right;\n",
       "    }\n",
       "</style>\n",
       "<table border=\"1\" class=\"dataframe\">\n",
       "  <thead>\n",
       "    <tr style=\"text-align: right;\">\n",
       "      <th></th>\n",
       "      <th>Player</th>\n",
       "      <th>GP</th>\n",
       "      <th>G</th>\n",
       "      <th>A</th>\n",
       "      <th>PTS</th>\n",
       "      <th>SH</th>\n",
       "      <th>SH%</th>\n",
       "      <th>SOG</th>\n",
       "      <th>SOG%</th>\n",
       "      <th>YC-RC</th>\n",
       "      <th>GW</th>\n",
       "      <th>PK-ATT</th>\n",
       "    </tr>\n",
       "  </thead>\n",
       "  <tbody>\n",
       "    <tr>\n",
       "      <th>0</th>\n",
       "      <td>Threadgold, Gabe</td>\n",
       "      <td>17</td>\n",
       "      <td>4</td>\n",
       "      <td>3</td>\n",
       "      <td>11</td>\n",
       "      <td>18</td>\n",
       "      <td>0.222</td>\n",
       "      <td>12</td>\n",
       "      <td>0.667</td>\n",
       "      <td>1-0</td>\n",
       "      <td>1</td>\n",
       "      <td>0-0</td>\n",
       "    </tr>\n",
       "    <tr>\n",
       "      <th>1</th>\n",
       "      <td>Acquah, Michael</td>\n",
       "      <td>16</td>\n",
       "      <td>1</td>\n",
       "      <td>6</td>\n",
       "      <td>8</td>\n",
       "      <td>24</td>\n",
       "      <td>0.042</td>\n",
       "      <td>9</td>\n",
       "      <td>0.375</td>\n",
       "      <td>2-1</td>\n",
       "      <td>1</td>\n",
       "      <td>0-0</td>\n",
       "    </tr>\n",
       "    <tr>\n",
       "      <th>2</th>\n",
       "      <td>Omeze, Chimere</td>\n",
       "      <td>16</td>\n",
       "      <td>3</td>\n",
       "      <td>1</td>\n",
       "      <td>7</td>\n",
       "      <td>17</td>\n",
       "      <td>0.176</td>\n",
       "      <td>8</td>\n",
       "      <td>0.471</td>\n",
       "      <td>7-0</td>\n",
       "      <td>2</td>\n",
       "      <td>0-0</td>\n",
       "    </tr>\n",
       "    <tr>\n",
       "      <th>3</th>\n",
       "      <td>Burko, Daniel</td>\n",
       "      <td>16</td>\n",
       "      <td>3</td>\n",
       "      <td>0</td>\n",
       "      <td>6</td>\n",
       "      <td>13</td>\n",
       "      <td>0.231</td>\n",
       "      <td>6</td>\n",
       "      <td>0.462</td>\n",
       "      <td>0-0</td>\n",
       "      <td>0</td>\n",
       "      <td>0-0</td>\n",
       "    </tr>\n",
       "    <tr>\n",
       "      <th>4</th>\n",
       "      <td>Fortier, Kristjan</td>\n",
       "      <td>14</td>\n",
       "      <td>2</td>\n",
       "      <td>0</td>\n",
       "      <td>4</td>\n",
       "      <td>6</td>\n",
       "      <td>0.333</td>\n",
       "      <td>4</td>\n",
       "      <td>0.667</td>\n",
       "      <td>3-0</td>\n",
       "      <td>1</td>\n",
       "      <td>0-0</td>\n",
       "    </tr>\n",
       "  </tbody>\n",
       "</table>\n",
       "</div>"
      ],
      "text/plain": [
       "              Player  GP  G  A  PTS  SH    SH%  SOG   SOG% YC-RC  GW PK-ATT\n",
       "0   Threadgold, Gabe  17  4  3   11  18  0.222   12  0.667   1-0   1    0-0\n",
       "1    Acquah, Michael  16  1  6    8  24  0.042    9  0.375   2-1   1    0-0\n",
       "2     Omeze, Chimere  16  3  1    7  17  0.176    8  0.471   7-0   2    0-0\n",
       "3      Burko, Daniel  16  3  0    6  13  0.231    6  0.462   0-0   0    0-0\n",
       "4  Fortier, Kristjan  14  2  0    4   6  0.333    4  0.667   3-0   1    0-0"
      ]
     },
     "metadata": {},
     "output_type": "display_data"
    },
    {
     "name": "stdout",
     "output_type": "stream",
     "text": [
      "\n",
      "Team Totals DataFrame:\n"
     ]
    },
    {
     "data": {
      "text/html": [
       "<div>\n",
       "<style scoped>\n",
       "    .dataframe tbody tr th:only-of-type {\n",
       "        vertical-align: middle;\n",
       "    }\n",
       "\n",
       "    .dataframe tbody tr th {\n",
       "        vertical-align: top;\n",
       "    }\n",
       "\n",
       "    .dataframe thead th {\n",
       "        text-align: right;\n",
       "    }\n",
       "</style>\n",
       "<table border=\"1\" class=\"dataframe\">\n",
       "  <thead>\n",
       "    <tr style=\"text-align: right;\">\n",
       "      <th></th>\n",
       "      <th>Player</th>\n",
       "      <th>GP</th>\n",
       "      <th>G</th>\n",
       "      <th>A</th>\n",
       "      <th>PTS</th>\n",
       "      <th>SH</th>\n",
       "      <th>SH%</th>\n",
       "      <th>SOG</th>\n",
       "      <th>SOG%</th>\n",
       "      <th>YC-RC</th>\n",
       "      <th>GW</th>\n",
       "      <th>PK-ATT</th>\n",
       "    </tr>\n",
       "  </thead>\n",
       "  <tbody>\n",
       "    <tr>\n",
       "      <th>0</th>\n",
       "      <td>Team Total</td>\n",
       "      <td>17</td>\n",
       "      <td>25</td>\n",
       "      <td>20</td>\n",
       "      <td>70</td>\n",
       "      <td>233</td>\n",
       "      <td>0.107</td>\n",
       "      <td>100</td>\n",
       "      <td>0.429</td>\n",
       "      <td>40-2</td>\n",
       "      <td>7</td>\n",
       "      <td>2-2</td>\n",
       "    </tr>\n",
       "    <tr>\n",
       "      <th>1</th>\n",
       "      <td>Opponent Total</td>\n",
       "      <td>17</td>\n",
       "      <td>25</td>\n",
       "      <td>21</td>\n",
       "      <td>71</td>\n",
       "      <td>204</td>\n",
       "      <td>0.123</td>\n",
       "      <td>82</td>\n",
       "      <td>0.402</td>\n",
       "      <td>37-0</td>\n",
       "      <td>7</td>\n",
       "      <td>3-3</td>\n",
       "    </tr>\n",
       "  </tbody>\n",
       "</table>\n",
       "</div>"
      ],
      "text/plain": [
       "           Player  GP   G   A  PTS   SH    SH%  SOG   SOG% YC-RC  GW PK-ATT\n",
       "0      Team Total  17  25  20   70  233  0.107  100  0.429  40-2   7    2-2\n",
       "1  Opponent Total  17  25  21   71  204  0.123   82  0.402  37-0   7    3-3"
      ]
     },
     "metadata": {},
     "output_type": "display_data"
    }
   ],
   "source": [
    "import pandas as pd\n",
    "\n",
    "# Load dataset\n",
    "file_path = 'syracuse_mens_soccer_2024_full.xlsx'\n",
    "df_players = pd.read_excel(file_path, sheet_name='Players')\n",
    "df_goalies = pd.read_excel(file_path, sheet_name='Goalies')\n",
    "df_team_totals = pd.read_excel(file_path, sheet_name='Team Totals')\n",
    "\n",
    "print('Players DataFrame:')\n",
    "display(df_players.head())\n",
    "print('\\nTeam Totals DataFrame:')\n",
    "display(df_team_totals)"
   ]
  },
  {
   "cell_type": "markdown",
   "id": "1c7473a9",
   "metadata": {},
   "source": [
    "## 1️⃣ Average Goals per Game"
   ]
  },
  {
   "cell_type": "code",
   "execution_count": 3,
   "id": "a0444bad",
   "metadata": {},
   "outputs": [
    {
     "name": "stdout",
     "output_type": "stream",
     "text": [
      "Average Goals per Game: 1.47\n"
     ]
    }
   ],
   "source": [
    "total_goals = df_players['G'].sum()\n",
    "games_played = df_players['GP'].max()\n",
    "avg_goals_per_game = total_goals / games_played\n",
    "print('Average Goals per Game:', round(avg_goals_per_game, 2))"
   ]
  },
  {
   "cell_type": "markdown",
   "id": "4d0026f7",
   "metadata": {},
   "source": [
    "**LLM Answer:**\n",
    "> The Syracuse men’s soccer team averaged about 1.47 goals per game in the 2024 season, reflecting a total of 25 goals over 17 matches.\n",
    "\n",
    "**Comparison:** ✅ Matches Python analysis."
   ]
  },
  {
   "cell_type": "markdown",
   "id": "90e0c590",
   "metadata": {},
   "source": [
    "## 2️⃣ Top 3 Players by Total Points (G+A)"
   ]
  },
  {
   "cell_type": "code",
   "execution_count": 4,
   "id": "844c1ec9",
   "metadata": {},
   "outputs": [
    {
     "data": {
      "text/html": [
       "<div>\n",
       "<style scoped>\n",
       "    .dataframe tbody tr th:only-of-type {\n",
       "        vertical-align: middle;\n",
       "    }\n",
       "\n",
       "    .dataframe tbody tr th {\n",
       "        vertical-align: top;\n",
       "    }\n",
       "\n",
       "    .dataframe thead th {\n",
       "        text-align: right;\n",
       "    }\n",
       "</style>\n",
       "<table border=\"1\" class=\"dataframe\">\n",
       "  <thead>\n",
       "    <tr style=\"text-align: right;\">\n",
       "      <th></th>\n",
       "      <th>Player</th>\n",
       "      <th>Points</th>\n",
       "      <th>G</th>\n",
       "      <th>A</th>\n",
       "    </tr>\n",
       "  </thead>\n",
       "  <tbody>\n",
       "    <tr>\n",
       "      <th>0</th>\n",
       "      <td>Threadgold, Gabe</td>\n",
       "      <td>7</td>\n",
       "      <td>4</td>\n",
       "      <td>3</td>\n",
       "    </tr>\n",
       "    <tr>\n",
       "      <th>1</th>\n",
       "      <td>Acquah, Michael</td>\n",
       "      <td>7</td>\n",
       "      <td>1</td>\n",
       "      <td>6</td>\n",
       "    </tr>\n",
       "    <tr>\n",
       "      <th>2</th>\n",
       "      <td>Omeze, Chimere</td>\n",
       "      <td>4</td>\n",
       "      <td>3</td>\n",
       "      <td>1</td>\n",
       "    </tr>\n",
       "  </tbody>\n",
       "</table>\n",
       "</div>"
      ],
      "text/plain": [
       "             Player  Points  G  A\n",
       "0  Threadgold, Gabe       7  4  3\n",
       "1   Acquah, Michael       7  1  6\n",
       "2    Omeze, Chimere       4  3  1"
      ]
     },
     "metadata": {},
     "output_type": "display_data"
    }
   ],
   "source": [
    "df_players['Points'] = df_players['G'] + df_players['A']\n",
    "top3_points = df_players[['Player','Points','G','A']].sort_values('Points', ascending=False).head(3)\n",
    "display(top3_points)"
   ]
  },
  {
   "cell_type": "markdown",
   "id": "a9773917",
   "metadata": {},
   "source": [
    "**LLM Answer:**\n",
    "1. Gabe Threadgold – 7 points (4G + 3A)\n",
    "2. Michael Acquah – 7 points (1G + 6A)\n",
    "3. Chimere Omeze – 4 points (3G + 1A)\n",
    "\n",
    "**Comparison:** ✅ Matches Python output."
   ]
  },
  {
   "cell_type": "markdown",
   "id": "edb055e3",
   "metadata": {},
   "source": [
    "## 3️⃣ Player with Highest Shot Accuracy (≥5 shots)"
   ]
  },
  {
   "cell_type": "code",
   "execution_count": 5,
   "id": "d05c6e76",
   "metadata": {},
   "outputs": [
    {
     "data": {
      "text/html": [
       "<div>\n",
       "<style scoped>\n",
       "    .dataframe tbody tr th:only-of-type {\n",
       "        vertical-align: middle;\n",
       "    }\n",
       "\n",
       "    .dataframe tbody tr th {\n",
       "        vertical-align: top;\n",
       "    }\n",
       "\n",
       "    .dataframe thead th {\n",
       "        text-align: right;\n",
       "    }\n",
       "</style>\n",
       "<table border=\"1\" class=\"dataframe\">\n",
       "  <thead>\n",
       "    <tr style=\"text-align: right;\">\n",
       "      <th></th>\n",
       "      <th>Player</th>\n",
       "      <th>SH</th>\n",
       "      <th>SOG</th>\n",
       "      <th>ShotAccuracy</th>\n",
       "    </tr>\n",
       "  </thead>\n",
       "  <tbody>\n",
       "    <tr>\n",
       "      <th>0</th>\n",
       "      <td>Threadgold, Gabe</td>\n",
       "      <td>18</td>\n",
       "      <td>12</td>\n",
       "      <td>0.666667</td>\n",
       "    </tr>\n",
       "  </tbody>\n",
       "</table>\n",
       "</div>"
      ],
      "text/plain": [
       "             Player  SH  SOG  ShotAccuracy\n",
       "0  Threadgold, Gabe  18   12      0.666667"
      ]
     },
     "metadata": {},
     "output_type": "display_data"
    }
   ],
   "source": [
    "df_players['ShotAccuracy'] = df_players['SOG'] / df_players['SH']\n",
    "top_accuracy = df_players[df_players['SH']>=5].sort_values('ShotAccuracy', ascending=False).head(1)\n",
    "display(top_accuracy[['Player','SH','SOG','ShotAccuracy']])"
   ]
  },
  {
   "cell_type": "markdown",
   "id": "51c25b8d",
   "metadata": {},
   "source": [
    "**LLM Answer:**\n",
    "> Gabe Threadgold – 18 shots, 12 on target, 66.7% accuracy\n",
    "\n",
    "**Comparison:** ✅ Matches Python output."
   ]
  },
  {
   "cell_type": "markdown",
   "id": "3aee6b01",
   "metadata": {},
   "source": [
    "## 4️⃣ Highest Impact per 90 mins (G+A per 90)"
   ]
  },
  {
   "cell_type": "code",
   "execution_count": 6,
   "id": "fb67b418",
   "metadata": {},
   "outputs": [
    {
     "data": {
      "text/html": [
       "<div>\n",
       "<style scoped>\n",
       "    .dataframe tbody tr th:only-of-type {\n",
       "        vertical-align: middle;\n",
       "    }\n",
       "\n",
       "    .dataframe tbody tr th {\n",
       "        vertical-align: top;\n",
       "    }\n",
       "\n",
       "    .dataframe thead th {\n",
       "        text-align: right;\n",
       "    }\n",
       "</style>\n",
       "<table border=\"1\" class=\"dataframe\">\n",
       "  <thead>\n",
       "    <tr style=\"text-align: right;\">\n",
       "      <th></th>\n",
       "      <th>Player</th>\n",
       "      <th>GP</th>\n",
       "      <th>G</th>\n",
       "      <th>A</th>\n",
       "      <th>G+A_per_90</th>\n",
       "    </tr>\n",
       "  </thead>\n",
       "  <tbody>\n",
       "    <tr>\n",
       "      <th>12</th>\n",
       "      <td>Gradus, Michal</td>\n",
       "      <td>2</td>\n",
       "      <td>1</td>\n",
       "      <td>0</td>\n",
       "      <td>0.500000</td>\n",
       "    </tr>\n",
       "    <tr>\n",
       "      <th>1</th>\n",
       "      <td>Acquah, Michael</td>\n",
       "      <td>16</td>\n",
       "      <td>1</td>\n",
       "      <td>6</td>\n",
       "      <td>0.437500</td>\n",
       "    </tr>\n",
       "    <tr>\n",
       "      <th>0</th>\n",
       "      <td>Threadgold, Gabe</td>\n",
       "      <td>17</td>\n",
       "      <td>4</td>\n",
       "      <td>3</td>\n",
       "      <td>0.411765</td>\n",
       "    </tr>\n",
       "  </tbody>\n",
       "</table>\n",
       "</div>"
      ],
      "text/plain": [
       "              Player  GP  G  A  G+A_per_90\n",
       "12    Gradus, Michal   2  1  0    0.500000\n",
       "1    Acquah, Michael  16  1  6    0.437500\n",
       "0   Threadgold, Gabe  17  4  3    0.411765"
      ]
     },
     "metadata": {},
     "output_type": "display_data"
    }
   ],
   "source": [
    "df_players['MIN'] = df_players['GP'] * 90\n",
    "df_players['G+A_per_90'] = (df_players['G'] + df_players['A']) / (df_players['MIN']/90)\n",
    "top_impact = df_players.sort_values('G+A_per_90', ascending=False).head(3)\n",
    "display(top_impact[['Player','GP','G','A','G+A_per_90']])"
   ]
  },
  {
   "cell_type": "markdown",
   "id": "b894a3f7",
   "metadata": {},
   "source": [
    "**LLM Answer:**\n",
    "1. Michal Gradus – 0.50 G+A/90\n",
    "2. Michael Acquah – 0.44 G+A/90\n",
    "3. Gabe Threadgold – 0.41 G+A/90\n",
    "\n",
    "**Comparison:** ✅ Matches Python output."
   ]
  },
  {
   "cell_type": "markdown",
   "id": "c30e7e04",
   "metadata": {},
   "source": [
    "## 5️⃣ Game-Winning Contribution"
   ]
  },
  {
   "cell_type": "code",
   "execution_count": 7,
   "id": "5379666a",
   "metadata": {},
   "outputs": [
    {
     "data": {
      "text/html": [
       "<div>\n",
       "<style scoped>\n",
       "    .dataframe tbody tr th:only-of-type {\n",
       "        vertical-align: middle;\n",
       "    }\n",
       "\n",
       "    .dataframe tbody tr th {\n",
       "        vertical-align: top;\n",
       "    }\n",
       "\n",
       "    .dataframe thead th {\n",
       "        text-align: right;\n",
       "    }\n",
       "</style>\n",
       "<table border=\"1\" class=\"dataframe\">\n",
       "  <thead>\n",
       "    <tr style=\"text-align: right;\">\n",
       "      <th></th>\n",
       "      <th>Player</th>\n",
       "      <th>G</th>\n",
       "      <th>GW_Contribution</th>\n",
       "    </tr>\n",
       "  </thead>\n",
       "  <tbody>\n",
       "    <tr>\n",
       "      <th>2</th>\n",
       "      <td>Omeze, Chimere</td>\n",
       "      <td>3</td>\n",
       "      <td>2</td>\n",
       "    </tr>\n",
       "    <tr>\n",
       "      <th>0</th>\n",
       "      <td>Threadgold, Gabe</td>\n",
       "      <td>4</td>\n",
       "      <td>1</td>\n",
       "    </tr>\n",
       "    <tr>\n",
       "      <th>4</th>\n",
       "      <td>Fortier, Kristjan</td>\n",
       "      <td>2</td>\n",
       "      <td>1</td>\n",
       "    </tr>\n",
       "  </tbody>\n",
       "</table>\n",
       "</div>"
      ],
      "text/plain": [
       "              Player  G  GW_Contribution\n",
       "2     Omeze, Chimere  3                2\n",
       "0   Threadgold, Gabe  4                1\n",
       "4  Fortier, Kristjan  2                1"
      ]
     },
     "metadata": {},
     "output_type": "display_data"
    }
   ],
   "source": [
    "df_players['GW_Contribution'] = df_players['GW']\n",
    "top_gw = df_players.sort_values('GW_Contribution', ascending=False).head(3)\n",
    "display(top_gw[['Player','G','GW_Contribution']])"
   ]
  },
  {
   "cell_type": "markdown",
   "id": "d90f915f",
   "metadata": {},
   "source": [
    "**LLM Answer:**\n",
    "1. Chimere Omeze – 2 GW goals\n",
    "2. Gabe Threadgold – 1 GW goal\n",
    "3. Kristjan Fortier – 1 GW goal\n",
    "\n",
    "**Comparison:** ✅ Matches Python output."
   ]
  },
  {
   "cell_type": "markdown",
   "id": "d30d9f46",
   "metadata": {},
   "source": [
    "## 6️⃣ Discipline vs Performance (G+A per Card)"
   ]
  },
  {
   "cell_type": "code",
   "execution_count": 8,
   "id": "1667172f",
   "metadata": {},
   "outputs": [
    {
     "data": {
      "text/html": [
       "<div>\n",
       "<style scoped>\n",
       "    .dataframe tbody tr th:only-of-type {\n",
       "        vertical-align: middle;\n",
       "    }\n",
       "\n",
       "    .dataframe tbody tr th {\n",
       "        vertical-align: top;\n",
       "    }\n",
       "\n",
       "    .dataframe thead th {\n",
       "        text-align: right;\n",
       "    }\n",
       "</style>\n",
       "<table border=\"1\" class=\"dataframe\">\n",
       "  <thead>\n",
       "    <tr style=\"text-align: right;\">\n",
       "      <th></th>\n",
       "      <th>Player</th>\n",
       "      <th>G</th>\n",
       "      <th>A</th>\n",
       "      <th>TotalCards</th>\n",
       "      <th>Contribution_per_Card</th>\n",
       "    </tr>\n",
       "  </thead>\n",
       "  <tbody>\n",
       "    <tr>\n",
       "      <th>0</th>\n",
       "      <td>Threadgold, Gabe</td>\n",
       "      <td>4</td>\n",
       "      <td>3</td>\n",
       "      <td>1</td>\n",
       "      <td>7.0</td>\n",
       "    </tr>\n",
       "    <tr>\n",
       "      <th>3</th>\n",
       "      <td>Burko, Daniel</td>\n",
       "      <td>3</td>\n",
       "      <td>0</td>\n",
       "      <td>0</td>\n",
       "      <td>3.0</td>\n",
       "    </tr>\n",
       "    <tr>\n",
       "      <th>7</th>\n",
       "      <td>Smith, Braedon</td>\n",
       "      <td>1</td>\n",
       "      <td>2</td>\n",
       "      <td>1</td>\n",
       "      <td>3.0</td>\n",
       "    </tr>\n",
       "  </tbody>\n",
       "</table>\n",
       "</div>"
      ],
      "text/plain": [
       "             Player  G  A  TotalCards  Contribution_per_Card\n",
       "0  Threadgold, Gabe  4  3           1                    7.0\n",
       "3     Burko, Daniel  3  0           0                    3.0\n",
       "7    Smith, Braedon  1  2           1                    3.0"
      ]
     },
     "metadata": {},
     "output_type": "display_data"
    }
   ],
   "source": [
    "df_players[['YC','RC']] = df_players['YC-RC'].str.split('-', expand=True).astype(int)\n",
    "df_players['TotalCards'] = df_players['YC'] + df_players['RC']\n",
    "df_players['Contribution_per_Card'] = (df_players['G'] + df_players['A']) / df_players['TotalCards'].replace(0,1)\n",
    "top_disciplined = df_players.sort_values('Contribution_per_Card', ascending=False).head(3)\n",
    "display(top_disciplined[['Player','G','A','TotalCards','Contribution_per_Card']])"
   ]
  },
  {
   "cell_type": "markdown",
   "id": "13bdc3fc",
   "metadata": {},
   "source": [
    "**LLM Answer:**\n",
    "1. Gabe Threadgold – 7 G+A per card\n",
    "2. Daniel Burko – 3 G+A per card\n",
    "3. Braedon Smith – 3 G+A per card\n",
    "\n",
    "**Comparison:** ✅ Matches Python output."
   ]
  },
  {
   "cell_type": "markdown",
   "id": "d0d77442",
   "metadata": {},
   "source": [
    "## 7️⃣ Coaching Question: Attack or Defense Focus"
   ]
  },
  {
   "cell_type": "code",
   "execution_count": 9,
   "id": "d0119573",
   "metadata": {},
   "outputs": [
    {
     "name": "stdout",
     "output_type": "stream",
     "text": [
      "Team Shot%: 0.107, Opponent Shot%: 0.123\n",
      "Team SOG%:  0.429, Opponent SOG%: 0.402\n",
      "\n",
      "Recommended Focus Area for Next Season: Defense\n"
     ]
    }
   ],
   "source": [
    "team_totals = df_team_totals[df_team_totals['Player'] == 'Team Total'].iloc[0]\n",
    "opp_totals = df_team_totals[df_team_totals['Player'].str.contains('Opponent', case=False)].iloc[0]\n",
    "\n",
    "team_goals = team_totals['G']\n",
    "team_shots = team_totals['SH']\n",
    "team_sog = team_totals['SOG']\n",
    "\n",
    "opp_goals = opp_totals['G']\n",
    "opp_shots = opp_totals['SH']\n",
    "opp_sog = opp_totals['SOG']\n",
    "\n",
    "team_sh_pct = team_goals / team_shots\n",
    "opp_sh_pct = opp_goals / opp_shots\n",
    "team_sog_pct = team_sog / team_shots\n",
    "opp_sog_pct = opp_sog / opp_shots\n",
    "\n",
    "print(f'Team Shot%: {team_sh_pct:.3f}, Opponent Shot%: {opp_sh_pct:.3f}')\n",
    "print(f'Team SOG%:  {team_sog_pct:.3f}, Opponent SOG%: {opp_sog_pct:.3f}')\n",
    "\n",
    "focus = 'Defense' if opp_goals > team_goals or opp_sh_pct > team_sh_pct else 'Attack'\n",
    "print(f'\\nRecommended Focus Area for Next Season: {focus}')"
   ]
  },
  {
   "cell_type": "markdown",
   "id": "f9746c0a",
   "metadata": {},
   "source": [
    "**LLM Answer:**\n",
    "> Focus on Defense. Syracuse conceded as many goals as they scored, and opponent shot efficiency was slightly higher.\n",
    "\n",
    "**Comparison:** ✅ Matches Python-based reasoning."
   ]
  },
  {
   "cell_type": "markdown",
   "id": "37edd0db",
   "metadata": {},
   "source": [
    "## 8️⃣ Most Efficient Scorer (Goals per Shot)\n",
    "\n",
    "Let's determine which player had the highest goal conversion rate (i.e., goals per shot) among those who took at least 5 shots."
   ]
  },
  {
   "cell_type": "code",
   "execution_count": 10,
   "id": "47757ecc",
   "metadata": {},
   "outputs": [
    {
     "data": {
      "text/html": [
       "<div>\n",
       "<style scoped>\n",
       "    .dataframe tbody tr th:only-of-type {\n",
       "        vertical-align: middle;\n",
       "    }\n",
       "\n",
       "    .dataframe tbody tr th {\n",
       "        vertical-align: top;\n",
       "    }\n",
       "\n",
       "    .dataframe thead th {\n",
       "        text-align: right;\n",
       "    }\n",
       "</style>\n",
       "<table border=\"1\" class=\"dataframe\">\n",
       "  <thead>\n",
       "    <tr style=\"text-align: right;\">\n",
       "      <th></th>\n",
       "      <th>Player</th>\n",
       "      <th>G</th>\n",
       "      <th>SH</th>\n",
       "      <th>Goals_per_Shot</th>\n",
       "    </tr>\n",
       "  </thead>\n",
       "  <tbody>\n",
       "    <tr>\n",
       "      <th>4</th>\n",
       "      <td>Fortier, Kristjan</td>\n",
       "      <td>2</td>\n",
       "      <td>6</td>\n",
       "      <td>0.333333</td>\n",
       "    </tr>\n",
       "    <tr>\n",
       "      <th>3</th>\n",
       "      <td>Burko, Daniel</td>\n",
       "      <td>3</td>\n",
       "      <td>13</td>\n",
       "      <td>0.230769</td>\n",
       "    </tr>\n",
       "    <tr>\n",
       "      <th>0</th>\n",
       "      <td>Threadgold, Gabe</td>\n",
       "      <td>4</td>\n",
       "      <td>18</td>\n",
       "      <td>0.222222</td>\n",
       "    </tr>\n",
       "  </tbody>\n",
       "</table>\n",
       "</div>"
      ],
      "text/plain": [
       "              Player  G  SH  Goals_per_Shot\n",
       "4  Fortier, Kristjan  2   6        0.333333\n",
       "3      Burko, Daniel  3  13        0.230769\n",
       "0   Threadgold, Gabe  4  18        0.222222"
      ]
     },
     "metadata": {},
     "output_type": "display_data"
    }
   ],
   "source": [
    "# Filter players with at least 5 shots\n",
    "df_players['Goals_per_Shot'] = df_players['G'] / df_players['SH']\n",
    "efficient_scorers = df_players[df_players['SH'] >= 5].sort_values('Goals_per_Shot', ascending=False).head(3)\n",
    "display(efficient_scorers[['Player', 'G', 'SH', 'Goals_per_Shot']])\n"
   ]
  },
  {
   "cell_type": "markdown",
   "id": "974de215",
   "metadata": {},
   "source": [
    "🧠 LLM Answer\n",
    "\n",
    "Kristjan Fortier had the highest goal conversion rate among frequent shooters, scoring 2 goals from just 6 shots (33.3%). This suggests he's a highly efficient finisher and may be underutilized in attack.\n",
    "\n",
    "✅ Comparison\n",
    "\n",
    "✔️ LLM matched Python output correctly\n",
    "✔️ Provided accurate reasoning and interpretation\n",
    "✔️ Value added: recognizes possible underuse of Fortier despite efficiency"
   ]
  },
  {
   "cell_type": "markdown",
   "id": "373e70cc",
   "metadata": {},
   "source": [
    "## 9️⃣ Goalkeeper Efficiency (Saves per Goal Conceded)\n",
    "\n",
    "This analysis helps us evaluate the performance of the team’s goalkeeper(s). A higher saves-to-goals-conceded ratio indicates stronger shot-stopping ability."
   ]
  },
  {
   "cell_type": "code",
   "execution_count": 13,
   "id": "cd5effe6",
   "metadata": {},
   "outputs": [
    {
     "data": {
      "text/html": [
       "<div>\n",
       "<style scoped>\n",
       "    .dataframe tbody tr th:only-of-type {\n",
       "        vertical-align: middle;\n",
       "    }\n",
       "\n",
       "    .dataframe tbody tr th {\n",
       "        vertical-align: top;\n",
       "    }\n",
       "\n",
       "    .dataframe thead th {\n",
       "        text-align: right;\n",
       "    }\n",
       "</style>\n",
       "<table border=\"1\" class=\"dataframe\">\n",
       "  <thead>\n",
       "    <tr style=\"text-align: right;\">\n",
       "      <th></th>\n",
       "      <th>Player</th>\n",
       "      <th>MIN</th>\n",
       "      <th>GA</th>\n",
       "      <th>Saves</th>\n",
       "      <th>Saves_per_GA</th>\n",
       "    </tr>\n",
       "  </thead>\n",
       "  <tbody>\n",
       "    <tr>\n",
       "      <th>1</th>\n",
       "      <td>Smith, Jason</td>\n",
       "      <td>70.6</td>\n",
       "      <td>1</td>\n",
       "      <td>3</td>\n",
       "      <td>3.000000</td>\n",
       "    </tr>\n",
       "    <tr>\n",
       "      <th>0</th>\n",
       "      <td>Hut, Tomas</td>\n",
       "      <td>1459.4</td>\n",
       "      <td>24</td>\n",
       "      <td>52</td>\n",
       "      <td>2.166667</td>\n",
       "    </tr>\n",
       "  </tbody>\n",
       "</table>\n",
       "</div>"
      ],
      "text/plain": [
       "         Player     MIN  GA  Saves  Saves_per_GA\n",
       "1  Smith, Jason    70.6   1      3      3.000000\n",
       "0    Hut, Tomas  1459.4  24     52      2.166667"
      ]
     },
     "metadata": {},
     "output_type": "display_data"
    }
   ],
   "source": [
    "df_goalies['Saves_per_GA'] = df_goalies['Saves'] / df_goalies['GA']\n",
    "goalie_eff = df_goalies.sort_values('Saves_per_GA', ascending=False)\n",
    "display(goalie_eff[['Player', 'MIN', 'GA', 'Saves', 'Saves_per_GA']])\n"
   ]
  },
  {
   "cell_type": "markdown",
   "id": "937c5ddb",
   "metadata": {},
   "source": [
    "🧠 LLM Answer:\n",
    "\n",
    "\"Jason Smith has the highest shot-stopping efficiency with 3.0 saves per goal conceded, though based on a limited sample size of 70.6 minutes.\n",
    "Tomas Hut played the majority of the season and maintained a strong 2.17 saves per goal, a solid performance given the workload.\""
   ]
  },
  {
   "cell_type": "markdown",
   "id": "839dc550",
   "metadata": {},
   "source": [
    "## 🔟 Underrated Efficiency: Points per Shot (PTS/SH)\n",
    "\n",
    "Objective:\n",
    "To uncover players who make the most of their opportunities, we’ll calculate how many points (G+A) each player generates per shot. This reveals under-the-radar efficiency in scoring contribution."
   ]
  },
  {
   "cell_type": "code",
   "execution_count": 14,
   "id": "bf9553bd",
   "metadata": {},
   "outputs": [
    {
     "data": {
      "text/html": [
       "<div>\n",
       "<style scoped>\n",
       "    .dataframe tbody tr th:only-of-type {\n",
       "        vertical-align: middle;\n",
       "    }\n",
       "\n",
       "    .dataframe tbody tr th {\n",
       "        vertical-align: top;\n",
       "    }\n",
       "\n",
       "    .dataframe thead th {\n",
       "        text-align: right;\n",
       "    }\n",
       "</style>\n",
       "<table border=\"1\" class=\"dataframe\">\n",
       "  <thead>\n",
       "    <tr style=\"text-align: right;\">\n",
       "      <th></th>\n",
       "      <th>Player</th>\n",
       "      <th>PTS</th>\n",
       "      <th>SH</th>\n",
       "      <th>PTS_per_SH</th>\n",
       "    </tr>\n",
       "  </thead>\n",
       "  <tbody>\n",
       "    <tr>\n",
       "      <th>4</th>\n",
       "      <td>Fortier, Kristjan</td>\n",
       "      <td>4</td>\n",
       "      <td>6</td>\n",
       "      <td>0.666667</td>\n",
       "    </tr>\n",
       "    <tr>\n",
       "      <th>0</th>\n",
       "      <td>Threadgold, Gabe</td>\n",
       "      <td>11</td>\n",
       "      <td>18</td>\n",
       "      <td>0.611111</td>\n",
       "    </tr>\n",
       "    <tr>\n",
       "      <th>3</th>\n",
       "      <td>Burko, Daniel</td>\n",
       "      <td>6</td>\n",
       "      <td>13</td>\n",
       "      <td>0.461538</td>\n",
       "    </tr>\n",
       "    <tr>\n",
       "      <th>10</th>\n",
       "      <td>Cutler-DeJesus, Andre</td>\n",
       "      <td>3</td>\n",
       "      <td>7</td>\n",
       "      <td>0.428571</td>\n",
       "    </tr>\n",
       "    <tr>\n",
       "      <th>2</th>\n",
       "      <td>Omeze, Chimere</td>\n",
       "      <td>7</td>\n",
       "      <td>17</td>\n",
       "      <td>0.411765</td>\n",
       "    </tr>\n",
       "  </tbody>\n",
       "</table>\n",
       "</div>"
      ],
      "text/plain": [
       "                   Player  PTS  SH  PTS_per_SH\n",
       "4       Fortier, Kristjan    4   6    0.666667\n",
       "0        Threadgold, Gabe   11  18    0.611111\n",
       "3           Burko, Daniel    6  13    0.461538\n",
       "10  Cutler-DeJesus, Andre    3   7    0.428571\n",
       "2          Omeze, Chimere    7  17    0.411765"
      ]
     },
     "metadata": {},
     "output_type": "display_data"
    }
   ],
   "source": [
    "# Calculate Points per Shot\n",
    "df_players['PTS_per_SH'] = df_players['PTS'] / df_players['SH']\n",
    "efficient_players = df_players[df_players['SH'] >= 5].sort_values('PTS_per_SH', ascending=False).head(5)\n",
    "display(efficient_players[['Player', 'PTS', 'SH', 'PTS_per_SH']])\n"
   ]
  },
  {
   "cell_type": "markdown",
   "id": "d2938a08",
   "metadata": {},
   "source": [
    "Kristjan Fortier stands out as the most efficient contributor, with 0.667 points per shot — meaning nearly 2 out of every 3 shots led to a goal or assist.\n",
    "Gabe Threadgold and Daniel Burko follow, both showing solid efficiency with fewer wasted opportunities.\n",
    "This metric highlights players who may be underutilized given their conversion impact."
   ]
  }
 ],
 "metadata": {
  "kernelspec": {
   "display_name": "Python 3 (ipykernel)",
   "language": "python",
   "name": "python3"
  },
  "language_info": {
   "codemirror_mode": {
    "name": "ipython",
    "version": 3
   },
   "file_extension": ".py",
   "mimetype": "text/x-python",
   "name": "python",
   "nbconvert_exporter": "python",
   "pygments_lexer": "ipython3",
   "version": "3.11.4"
  }
 },
 "nbformat": 4,
 "nbformat_minor": 5
}
